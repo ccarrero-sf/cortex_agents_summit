{
 "metadata": {
  "kernelspec": {
   "display_name": "Streamlit Notebook",
   "name": "streamlit"
  },
  "lastEditStatus": {
   "notebookId": "sh2qajyljfg4wf7fpgfq",
   "authorId": "1132146704787",
   "authorName": "USER",
   "authorEmail": "",
   "sessionId": "69b21f3b-24c1-4148-9059-4ce2d5b505af",
   "lastEditTime": 1747162129416
  }
 },
 "nbformat_minor": 5,
 "nbformat": 4,
 "cells": [
  {
   "cell_type": "markdown",
   "id": "abc268cb-99b6-43a2-9c6a-c1463291ee3a",
   "metadata": {
    "collapsed": false,
    "name": "Start"
   },
   "source": [
    "# Setup Tools for Sales Assistant Agent\n",
    "We are going to setup all the tools that will be used by the Agent"
   ]
  },
  {
   "cell_type": "code",
   "execution_count": null,
   "id": "3775908f-ca36-4846-8f38-5adca39217f2",
   "metadata": {
    "language": "python",
    "name": "Connect"
   },
   "outputs": [],
   "source": [
    "# Import python packages\n",
    "import streamlit as st\n",
    "import pandas as pd\n",
    "\n",
    "# We can also use Snowpark for our analyses!\n",
    "from snowflake.snowpark.context import get_active_session\n",
    "session = get_active_session()"
   ]
  },
  {
   "cell_type": "markdown",
   "id": "b8885f6b-2afe-4eee-b141-9e6f495e088d",
   "metadata": {
    "name": "cell3"
   },
   "source": ""
  },
  {
   "cell_type": "markdown",
   "id": "0554b86d-68eb-4aff-a554-c80f26136f39",
   "metadata": {
    "collapsed": false,
    "name": "cell5"
   },
   "source": "## Tools for Unstructured Data (Cortex Search)\nWe are going to setup a tool tha will help the agent to extract information from unstructured data. It will process PDF documents but also will be using IMAGE descriptions..The information is stored in PDF and JPEG format so first we are going to process it.\n\n### PDF Files\n\nWe are going to process the documents about bikes and ski"
  },
  {
   "cell_type": "code",
   "execution_count": null,
   "id": "8d50cbf4-0c8d-4950-86cb-114990437ac9",
   "metadata": {
    "language": "sql",
    "name": "check_bike_files"
   },
   "outputs": [],
   "source": "-- Check what documents are available\n\nSELECT * FROM DIRECTORY('@DOCS');"
  },
  {
   "cell_type": "markdown",
   "id": "78b90d93-69b4-4d6e-b9da-91afd1a2fddc",
   "metadata": {
    "collapsed": false,
    "name": "cell11"
   },
   "source": [
    "Read the PDF File"
   ]
  },
  {
   "cell_type": "code",
   "execution_count": null,
   "id": "c695373e-ac74-4b62-a1f1-08206cbd5c81",
   "metadata": {
    "language": "sql",
    "name": "parse_bikes_docs"
   },
   "outputs": [],
   "source": "CREATE OR REPLACE TEMPORARY TABLE RAW_TEXT AS\nSELECT \n    RELATIVE_PATH,\n    TO_VARCHAR (\n        SNOWFLAKE.CORTEX.PARSE_DOCUMENT (\n            '@DOCS',\n            RELATIVE_PATH,\n            {'mode': 'LAYOUT'} ):content\n        ) AS EXTRACTED_LAYOUT \nFROM \n    DIRECTORY('@DOCS')\nWHERE\n    RELATIVE_PATH LIKE '%.pdf';"
  },
  {
   "cell_type": "markdown",
   "id": "846f0708-0958-4e5c-aa11-8b5a0ec2ceef",
   "metadata": {
    "name": "cell4",
    "collapsed": false
   },
   "source": "You can check the content"
  },
  {
   "cell_type": "code",
   "id": "3621c481-9b70-4d45-89f8-2d6d9e60827d",
   "metadata": {
    "language": "sql",
    "name": "cell6"
   },
   "outputs": [],
   "source": "select * from RAW_TEXT limit 5;",
   "execution_count": null
  },
  {
   "cell_type": "markdown",
   "id": "132582de-f23d-4f51-bbf9-44674d30592c",
   "metadata": {
    "name": "cell8",
    "collapsed": false
   },
   "source": "Create the table that will be used by Cortex Search Service as a Tool for Cortex Agents in order to retrieve information from PDF and JPEG files:"
  },
  {
   "cell_type": "code",
   "id": "17281011-347a-4333-86df-b2689a85a221",
   "metadata": {
    "language": "sql",
    "name": "cell9"
   },
   "outputs": [],
   "source": "create or replace TABLE DOCS_CHUNKS_TABLE ( \n    RELATIVE_PATH VARCHAR(16777216), -- Relative path to the PDF file\n    CHUNK VARCHAR(16777216), -- Piece of text\n    CHUNK_INDEX INTEGER, -- Index for the text\n    CATEGORY VARCHAR(16777216) -- Will hold the document category to enable filtering\n);\n",
   "execution_count": null
  },
  {
   "cell_type": "markdown",
   "id": "d38c2af2-970d-4001-ab3f-c33271b3770a",
   "metadata": {
    "collapsed": false,
    "name": "cell12"
   },
   "source": [
    "Split the PDF file into pieces"
   ]
  },
  {
   "cell_type": "code",
   "execution_count": null,
   "id": "2040e105-5e88-4525-8eb1-a92fb40bf4a2",
   "metadata": {
    "language": "sql",
    "name": "split_bikes_docs"
   },
   "outputs": [],
   "source": "insert into DOCS_CHUNKS_TABLE (relative_path, chunk, chunk_index)\n\n    select relative_path, \n            c.value::TEXT as chunk,\n            c.INDEX::INTEGER as chunk_index\n            \n    from \n        raw_text,\n        LATERAL FLATTEN( input => SNOWFLAKE.CORTEX.SPLIT_TEXT_RECURSIVE_CHARACTER (\n              EXTRACTED_LAYOUT,\n              'markdown',\n              1512,\n              256,\n              ['\\n\\n', '\\n', ' ', '']\n           )) c;"
  },
  {
   "cell_type": "markdown",
   "id": "c91eb46a-6257-4826-947d-636d280d46db",
   "metadata": {
    "collapsed": false,
    "name": "cell13"
   },
   "source": "\nCheck the content"
  },
  {
   "cell_type": "code",
   "execution_count": null,
   "id": "183043db-6148-4409-8bac-b1112d1b93d2",
   "metadata": {
    "language": "sql",
    "name": "create_bikes_rag_tool"
   },
   "outputs": [],
   "source": "SELECT * FROM DOCS_CHUNKS_TABLE limit 7;\n"
  },
  {
   "cell_type": "markdown",
   "id": "76428176-e27a-4a02-8439-024a09fd3d55",
   "metadata": {
    "name": "cell7",
    "collapsed": false
   },
   "source": "As a demo, we are goign to show how CLASSIFY_TEXT Cortex function to classify the document type. We have two classes, Bike and Snow, and we pass the document title and the first chunk of the document to the function"
  },
  {
   "cell_type": "code",
   "id": "babe24f7-4486-4d2a-b342-7dda8bce59ef",
   "metadata": {
    "language": "sql",
    "name": "cell10"
   },
   "outputs": [],
   "source": "CREATE OR REPLACE TEMPORARY TABLE docs_categories AS WITH unique_documents AS (\n  SELECT\n    DISTINCT relative_path, chunk\n  FROM\n    docs_chunks_table\n  WHERE \n    chunk_index = 0\n  ),\n docs_category_cte AS (\n  SELECT\n    relative_path,\n    TRIM(snowflake.cortex.CLASSIFY_TEXT (\n      'Title:' || relative_path || 'Content:' || chunk, ['Bike', 'Snow']\n     )['label'], '\"') AS category\n  FROM\n    unique_documents\n)\nSELECT\n  *\nFROM\n  docs_category_cte;",
   "execution_count": null
  },
  {
   "cell_type": "code",
   "id": "563deac8-2b50-4c0c-a712-f14eac57e094",
   "metadata": {
    "language": "sql",
    "name": "cell14"
   },
   "outputs": [],
   "source": "select * from docs_categories;\n",
   "execution_count": null
  },
  {
   "cell_type": "markdown",
   "id": "ff0cacd7-2e5a-4e8c-8f25-28f3ab9197f5",
   "metadata": {
    "name": "cell15",
    "collapsed": false
   },
   "source": "Update the table"
  },
  {
   "cell_type": "code",
   "id": "2f3cc3b6-8471-4af0-b562-67e6174eb565",
   "metadata": {
    "language": "sql",
    "name": "cell16"
   },
   "outputs": [],
   "source": "update docs_chunks_table \n  SET category = docs_categories.category\n  from docs_categories\n  where  docs_chunks_table.relative_path = docs_categories.relative_path;\n",
   "execution_count": null
  },
  {
   "cell_type": "markdown",
   "id": "352527e8-4b98-4c08-8c01-c3758a9ca91e",
   "metadata": {
    "name": "cell18",
    "collapsed": false
   },
   "source": "### IMAGES\n\nNow let's process the images we have for our bikes and skies. We are going to use COMPLETE multi-modeal function asking for an image description and classification. We add it into the DOCS_CHUNKS_TABLE where we also have the PDF documentation:"
  },
  {
   "cell_type": "code",
   "id": "1fe08185-7dc3-4227-b2f1-f6ee1697d714",
   "metadata": {
    "language": "sql",
    "name": "cell20"
   },
   "outputs": [],
   "source": "insert into DOCS_CHUNKS_TABLE (relative_path, chunk, chunk_index, category)\nSELECT \n    RELATIVE_PATH,\n    CONCAT('This is a picture describing the bike: '|| RELATIVE_PATH || \n        'THIS IS THE DESCRIPTION: ' ||\n        SNOWFLAKE.CORTEX.COMPLETE('claude-3-5-sonnet',\n        'DESCRIBE THIS IMAGE: ',\n        TO_FILE('@DOCS', RELATIVE_PATH))) as chunk,\n    0,\n    SNOWFLAKE.CORTEX.COMPLETE('claude-3-5-sonnet',\n        'Classify this image, respond only with Bike or Snow: ',\n        TO_FILE('@DOCS', RELATIVE_PATH)) as category,\nFROM \n    DIRECTORY('@DOCS')\nWHERE\n    RELATIVE_PATH LIKE '%.jpeg';\n",
   "execution_count": null
  },
  {
   "cell_type": "markdown",
   "id": "b89ec636-a18b-4135-bf0f-43acd7e75b09",
   "metadata": {
    "name": "cell21",
    "collapsed": false
   },
   "source": "You can check the descriptions:"
  },
  {
   "cell_type": "code",
   "id": "206862d8-ea66-456b-a297-b4750cd02971",
   "metadata": {
    "language": "sql",
    "name": "cell22"
   },
   "outputs": [],
   "source": "select * from DOCS_CHUNKS_TABLE\n    where RELATIVE_PATH LIKE '%.jpeg';",
   "execution_count": null
  },
  {
   "cell_type": "markdown",
   "id": "e1505035-726b-4447-b182-84a3707f015d",
   "metadata": {
    "name": "cell24",
    "collapsed": false
   },
   "source": "### Enable Cortex Search\n\nCortex Search is the Tool that will be used to retrieve context from unstructured data. Once we have processed all the content from PDF and IMAGES into the DOCS_CHUNK_TABLE, we just need to enable the service in that table. This will create the embeddings, indexing, etc automatically. "
  },
  {
   "cell_type": "code",
   "id": "4a2d90b8-2ad6-4470-9b65-64769fdbbfe0",
   "metadata": {
    "language": "sql",
    "name": "cell26"
   },
   "outputs": [],
   "source": "-- CREATE THE WH IF DOES NOT EXISTS\nCREATE WAREHOUSE IF NOT EXISTS COMPUTE_WH\nWAREHOUSE_SIZE = 'XSMALL';",
   "execution_count": null
  },
  {
   "cell_type": "code",
   "id": "77174449-fc9c-4551-9563-5f10930a5aa2",
   "metadata": {
    "language": "sql",
    "name": "cell25"
   },
   "outputs": [],
   "source": "create or replace CORTEX SEARCH SERVICE DOCUMENTATION_TOOL\nON chunk\nATTRIBUTES relative_path, category\nwarehouse = COMPUTE_WH\nTARGET_LAG = '1 hour'\nEMBEDDING_MODEL = 'snowflake-arctic-embed-l-v2.0'\nas (\n    select chunk,\n        chunk_index,\n        relative_path,\n        category\n    from docs_chunks_table\n);",
   "execution_count": null
  },
  {
   "cell_type": "markdown",
   "id": "a50af6f6-c1a9-4116-b485-897a5187dd92",
   "metadata": {
    "collapsed": false,
    "name": "cell17"
   },
   "source": [
    "#### Test the API for the Tool\n",
    "You can test the service is working as expected before configuring the Cortex Agent"
   ]
  },
  {
   "cell_type": "code",
   "execution_count": null,
   "id": "2ad356fb-c15d-4796-81c5-70276d4872c3",
   "metadata": {
    "language": "python",
    "name": "test_api"
   },
   "outputs": [],
   "source": "from snowflake.core import Root\nfrom snowflake.cortex import complete\n\nroot = Root(get_active_session())\n\nquestion = 'Who tested the downhill bike'\n\n# Fetch service\nmy_service = (root\n  .databases[\"CC_CORTEX_AGENTS_SUMMIT\"]\n  .schemas[\"PUBLIC\"]\n  .cortex_search_services[\"DOCUMENTATION_TOOL\"]\n)\n\n# Query service\nresp = my_service.search(\n  query=question,\n  columns=[\"CHUNK_INDEX\", \"CHUNK\", \"RELATIVE_PATH\"],\n  limit=1\n)\nresp = resp.results[0]\n\nst.info(f'**File:** {resp[\"RELATIVE_PATH\"]}\\n\\n {resp[\"CHUNK\"]}')\n\n# Generate Response\nmodel = 'mistral-large2'\nprompt = f\"{question} Answer based on the provided context: {resp['CHUNK']}\"\nresponse = complete(model, prompt).strip()\n\nst.info(f'**LLM Response:**\\n\\n**{response}**')"
  },
  {
   "cell_type": "markdown",
   "id": "0d92e083-2415-4c42-aa87-80187831c8bb",
   "metadata": {
    "collapsed": false,
    "name": "cell19"
   },
   "source": [
    "## Tools for Structured Data (Cortex Analyst)\n",
    "\n",
    "Another Tool that we will be providing to the Cortex Agent will be Cortex Analyst which will provide the capability to extract information from Snowflake Tables.  In the API call we will be providing the location of a Semantic file that contains information about the business terminology to describe the data.\n",
    "\n",
    "First we are going to create some syntethic data about the bikes and ski products that we have.\n",
    "\n",
    "We are going to create the following tables with content:\n",
    "\n",
    "\n",
    "**DIM_ARTICLE – Article/Item Dimension**\n",
    "\n",
    "Purpose: Stores descriptive information about the products (articles) being sold.\n",
    "\n",
    "Key Columns:\n",
    "\n",
    "- ARTICLE_ID (Primary Key): Unique identifier for each article.\n",
    "- ARTICLE_NAME: Full name/description of the product.\n",
    "- ARTICLE_CATEGORY: Product category (e.g., Bike, Skis, Ski Boots).\n",
    "- ARTICLE_BRAND: Manufacturer or brand (e.g., Mondracer, Carver).\n",
    "- ARTICLE_COLOR: Dominant color for the article.\n",
    "- ARTICLE_PRICE: Standard unit price of the article.\n",
    "\n",
    "\n",
    "**DIM_CUSTOMER – Customer Dimension**\n",
    "\n",
    "Purpose: Contains demographic and segmentation info about each customer.\n",
    "\n",
    "Key Columns:\n",
    "\n",
    "- CUSTOMER_ID (Primary Key): Unique identifier for each customer.\n",
    "- CUSTOMER_NAME: Display name for the customer.\n",
    "- CUSTOMER_REGION: Geographic region (e.g., North, South).\n",
    "- CUSTOMER_AGE: Age of the customer.\n",
    "- CUSTOMER_GENDER: Gender (Male/Female).\n",
    "- CUSTOMER_SEGMENT: Marketing segment (e.g., Premium, Regular, Occasional).\n",
    "\n",
    "\n",
    "**FACT_SALES – Sales Transactions Fact Table**\n",
    "\n",
    "Purpose: Captures individual sales transactions (facts) with references to article and customer details.\n",
    "\n",
    "Key Columns:\n",
    "\n",
    "- SALE_ID (Primary Key): Unique identifier for the transaction.\n",
    "- ARTICLE_ID (Foreign Key): Links to DIM_ARTICLE.\n",
    "- CUSTOMER_ID (Foreign Key): Links to DIM_CUSTOMER.\n",
    "- DATE_SALES: Date when the sale occurred.\n",
    "- QUANTITY_SOLD: Number of units sold in the transaction.\n",
    "- TOTAL_PRICE: Total transaction value (unit price × quantity).\n",
    "- SALES_CHANNEL: Sales channel used (e.g., Online, In-Store, Partner).\n",
    "- PROMOTION_APPLIED: Boolean indicating if the sale involved a promotion or discount.\n",
    "\n"
   ]
  },
  {
   "cell_type": "code",
   "execution_count": null,
   "id": "94632a62-3b94-4d3a-9b1e-98aee4da1ac6",
   "metadata": {
    "language": "sql",
    "name": "create_article_table"
   },
   "outputs": [],
   "source": [
    "CREATE OR REPLACE TABLE DIM_ARTICLE (\n",
    "    ARTICLE_ID INT PRIMARY KEY,\n",
    "    ARTICLE_NAME STRING,\n",
    "    ARTICLE_CATEGORY STRING,\n",
    "    ARTICLE_BRAND STRING,\n",
    "    ARTICLE_COLOR STRING,\n",
    "    ARTICLE_PRICE FLOAT\n",
    ");\n",
    "\n",
    "INSERT INTO DIM_ARTICLE (ARTICLE_ID, ARTICLE_NAME, ARTICLE_CATEGORY, ARTICLE_BRAND, ARTICLE_COLOR, ARTICLE_PRICE)\n",
    "VALUES \n",
    "(1, 'Mondracer Infant Bike', 'Bike', 'Mondracer', 'Red', 3000),\n",
    "(2, 'Premium Bicycle', 'Bike', 'Veloci', 'Blue', 9000),\n",
    "(3, 'Ski Boots TDBootz Special', 'Ski Boots', 'TDBootz', 'Black', 600),\n",
    "(4, 'The Ultimate Downhill Bike', 'Bike', 'Graviton', 'Green', 10000),\n",
    "(5, 'The Xtreme Road Bike 105 SL', 'Bike', 'Xtreme', 'White', 8500),\n",
    "(6, 'Carver Skis', 'Skis', 'Carver', 'Orange', 790),\n",
    "(7, 'Outpiste Skis', 'Skis', 'Outpiste', 'Yellow', 900),\n",
    "(8, 'Racing Fast Skis', 'Skis', 'RacerX', 'Blue', 950);"
   ]
  },
  {
   "cell_type": "code",
   "execution_count": null,
   "id": "1cd839a1-2aba-480e-9a7b-3e95b413ce8a",
   "metadata": {
    "language": "sql",
    "name": "create_customer_table"
   },
   "outputs": [],
   "source": [
    "CREATE OR REPLACE TABLE DIM_CUSTOMER (\n",
    "    CUSTOMER_ID INT PRIMARY KEY,\n",
    "    CUSTOMER_NAME STRING,\n",
    "    CUSTOMER_REGION STRING,\n",
    "    CUSTOMER_AGE INT,\n",
    "    CUSTOMER_GENDER STRING,\n",
    "    CUSTOMER_SEGMENT STRING\n",
    ");\n",
    "\n",
    "INSERT INTO DIM_CUSTOMER (CUSTOMER_ID, CUSTOMER_NAME, CUSTOMER_REGION, CUSTOMER_AGE, CUSTOMER_GENDER, CUSTOMER_SEGMENT)\n",
    "SELECT \n",
    "    SEQ4() AS CUSTOMER_ID,\n",
    "    'Customer ' || SEQ4() AS CUSTOMER_NAME,\n",
    "    CASE MOD(SEQ4(), 5)\n",
    "        WHEN 0 THEN 'North'\n",
    "        WHEN 1 THEN 'South'\n",
    "        WHEN 2 THEN 'East'\n",
    "        WHEN 3 THEN 'West'\n",
    "        ELSE 'Central'\n",
    "    END AS CUSTOMER_REGION,\n",
    "    UNIFORM(18, 65, RANDOM()) AS CUSTOMER_AGE,\n",
    "    CASE MOD(SEQ4(), 2)\n",
    "        WHEN 0 THEN 'Male'\n",
    "        ELSE 'Female'\n",
    "    END AS CUSTOMER_GENDER,\n",
    "    CASE MOD(SEQ4(), 3)\n",
    "        WHEN 0 THEN 'Premium'\n",
    "        WHEN 1 THEN 'Regular'\n",
    "        ELSE 'Occasional'\n",
    "    END AS CUSTOMER_SEGMENT\n",
    "FROM TABLE(GENERATOR(ROWCOUNT => 5000));"
   ]
  },
  {
   "cell_type": "code",
   "execution_count": null,
   "id": "f8b1c58e-8c41-444b-8163-386a74ce5ee2",
   "metadata": {
    "language": "sql",
    "name": "create_sales_table"
   },
   "outputs": [],
   "source": [
    "CREATE OR REPLACE TABLE FACT_SALES (\n",
    "    SALE_ID INT PRIMARY KEY,\n",
    "    ARTICLE_ID INT,\n",
    "    DATE_SALES DATE,\n",
    "    CUSTOMER_ID INT,\n",
    "    QUANTITY_SOLD INT,\n",
    "    TOTAL_PRICE FLOAT,\n",
    "    SALES_CHANNEL STRING,\n",
    "    PROMOTION_APPLIED BOOLEAN,\n",
    "    FOREIGN KEY (ARTICLE_ID) REFERENCES DIM_ARTICLE(ARTICLE_ID),\n",
    "    FOREIGN KEY (CUSTOMER_ID) REFERENCES DIM_CUSTOMER(CUSTOMER_ID)\n",
    ");\n",
    "\n",
    "-- Populating Sales Fact Table with new attributes\n",
    "INSERT INTO FACT_SALES (SALE_ID, ARTICLE_ID, DATE_SALES, CUSTOMER_ID, QUANTITY_SOLD, TOTAL_PRICE, SALES_CHANNEL, PROMOTION_APPLIED)\n",
    "SELECT \n",
    "    SEQ4() AS SALE_ID,\n",
    "    A.ARTICLE_ID,\n",
    "    DATEADD(DAY, UNIFORM(-1095, 0, RANDOM()), CURRENT_DATE) AS DATE_SALES,\n",
    "    UNIFORM(1, 5000, RANDOM()) AS CUSTOMER_ID,\n",
    "    UNIFORM(1, 10, RANDOM()) AS QUANTITY_SOLD,\n",
    "    UNIFORM(1, 10, RANDOM()) * A.ARTICLE_PRICE AS TOTAL_PRICE,\n",
    "    CASE MOD(SEQ4(), 3)\n",
    "        WHEN 0 THEN 'Online'\n",
    "        WHEN 1 THEN 'In-Store'\n",
    "        ELSE 'Partner'\n",
    "    END AS SALES_CHANNEL,\n",
    "    CASE MOD(SEQ4(), 4)\n",
    "        WHEN 0 THEN TRUE\n",
    "        ELSE FALSE\n",
    "    END AS PROMOTION_APPLIED\n",
    "FROM DIM_ARTICLE A\n",
    "JOIN TABLE(GENERATOR(ROWCOUNT => 10000)) ON TRUE\n",
    "ORDER BY DATE_SALES;"
   ]
  },
  {
   "cell_type": "markdown",
   "id": "bc088cde-eff3-47cb-b98d-921d79b3d4cc",
   "metadata": {
    "collapsed": false,
    "name": "cell23"
   },
   "source": [
    "### Semantic File\n",
    "\n",
    "We are providing an already created Semantic File for your usage, but please explore it using the Semantic Model Generator. You have an explanation in the mean README of this Hands-On Lab"
   ]
  },
  {
   "cell_type": "code",
   "execution_count": null,
   "id": "0121f643-d9b7-4784-a50f-83edfa02ddce",
   "metadata": {
    "language": "sql",
    "name": "copy_semantic_file"
   },
   "outputs": [],
   "source": [
    "create or replace stage semantic_files ENCRYPTION = (TYPE = 'SNOWFLAKE_SSE') DIRECTORY = ( ENABLE = true );\n",
    "\n",
    "COPY FILES\n",
    "    INTO @semantic_files/\n",
    "    FROM @CC_CORTEX_AGENTS_SUMMIT.PUBLIC.git_repo/branches/main/\n",
    "    FILES = ('semantic.yaml', 'semantic_search.yaml');"
   ]
  },
  {
   "cell_type": "markdown",
   "id": "0d09d287-24c7-4691-ab2b-4a7a29f523e7",
   "metadata": {
    "collapsed": false,
    "name": "cell1"
   },
   "source": [
    "## Improving Tool Usage with Dynamic Literal Retrieval\n",
    "\n",
    "Thank you to the Cortex Analyst integration with Cortex Search, we can improve the retrieval of all possible values of a column. Instead of listing all the possible values in the semantic file, we can use Cortex Search Integration. \n",
    "\n",
    "Let's use it as example for the ARTICLE NAMES, so we do not have to list all.\n",
    "\n"
   ]
  },
  {
   "cell_type": "code",
   "execution_count": null,
   "id": "3313c2a7-09d6-4850-8318-80dca424ffab",
   "metadata": {
    "language": "sql",
    "name": "cell2"
   },
   "outputs": [],
   "source": [
    "CREATE OR REPLACE CORTEX SEARCH SERVICE _ARTICLE_NAME_SEARCH\n",
    "  ON ARTICLE_NAME\n",
    "  WAREHOUSE = COMPUTE_WH\n",
    "  TARGET_LAG = '1 hour'\n",
    "  EMBEDDING_MODEL = 'snowflake-arctic-embed-l-v2.0'\n",
    "AS (\n",
    "  SELECT\n",
    "      DISTINCT ARTICLE_NAME\n",
    "  FROM DIM_ARTICLE\n",
    ");"
   ]
  }
 ]
}