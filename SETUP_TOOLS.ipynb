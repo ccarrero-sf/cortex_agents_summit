{
 "cells": [
  {
   "cell_type": "markdown",
   "id": "abc268cb-99b6-43a2-9c6a-c1463291ee3a",
   "metadata": {
    "collapsed": false,
    "name": "Start"
   },
   "source": [
    "# Setup Tools for Sales Assistant Agent\n",
    "We are going to setup all the tools that will be used by the Agent"
   ]
  },
  {
   "cell_type": "code",
   "execution_count": null,
   "id": "3775908f-ca36-4846-8f38-5adca39217f2",
   "metadata": {
    "language": "python",
    "name": "Connect"
   },
   "outputs": [],
   "source": [
    "# Import python packages\n",
    "import streamlit as st\n",
    "import pandas as pd\n",
    "\n",
    "# We can also use Snowpark for our analyses!\n",
    "from snowflake.snowpark.context import get_active_session\n",
    "session = get_active_session()"
   ]
  },
  {
   "cell_type": "markdown",
   "id": "0554b86d-68eb-4aff-a554-c80f26136f39",
   "metadata": {
    "collapsed": false,
    "name": "cell5"
   },
   "source": [
    "## Tools for Unstructured Data (Cortex Search)\n",
    "We are going to setup two tools tha will help the agent to extract information from unstructured data. One will be using documents for bikes while the other will be using documents for ski.The information is stored in PDF format so first we are going to process it.\n",
    "\n",
    "### Bikes Documentation\n",
    "\n",
    "We are going to process the documents about bikes and create a Cortex Search service that will serve as a Tool for the Agent in order to retrieve information bout bikes when needed"
   ]
  },
  {
   "cell_type": "code",
   "execution_count": null,
   "id": "8d50cbf4-0c8d-4950-86cb-114990437ac9",
   "metadata": {
    "language": "sql",
    "name": "check_bike_files"
   },
   "outputs": [],
   "source": [
    "-- Check what documents are available\n",
    "\n",
    "SELECT * FROM DIRECTORY('@DOCS_BIKES');"
   ]
  },
  {
   "cell_type": "markdown",
   "id": "78b90d93-69b4-4d6e-b9da-91afd1a2fddc",
   "metadata": {
    "collapsed": false,
    "name": "cell11"
   },
   "source": [
    "Read the PDF File"
   ]
  },
  {
   "cell_type": "code",
   "execution_count": null,
   "id": "c695373e-ac74-4b62-a1f1-08206cbd5c81",
   "metadata": {
    "language": "sql",
    "name": "parse_bikes_docs"
   },
   "outputs": [],
   "source": [
    "CREATE OR REPLACE TABLE RAW_TEXT_BIKES AS\n",
    "SELECT \n",
    "    RELATIVE_PATH,\n",
    "    TO_VARCHAR (\n",
    "        SNOWFLAKE.CORTEX.PARSE_DOCUMENT (\n",
    "            '@DOCS_BIKES',\n",
    "            RELATIVE_PATH,\n",
    "            {'mode': 'LAYOUT'} ):content\n",
    "        ) AS EXTRACTED_LAYOUT \n",
    "FROM \n",
    "    DIRECTORY('@DOCS_BIKES');\n",
    "\n",
    "SELECT * FROM RAW_TEXT_BIKES;"
   ]
  },
  {
   "cell_type": "markdown",
   "id": "d38c2af2-970d-4001-ab3f-c33271b3770a",
   "metadata": {
    "collapsed": false,
    "name": "cell12"
   },
   "source": [
    "Split the PDF file into pieces"
   ]
  },
  {
   "cell_type": "code",
   "execution_count": null,
   "id": "2040e105-5e88-4525-8eb1-a92fb40bf4a2",
   "metadata": {
    "language": "sql",
    "name": "split_bikes_docs"
   },
   "outputs": [],
   "source": [
    "-- Create chunks from extracted content\n",
    "\n",
    "CREATE OR REPLACE TABLE CHUNKED_TEXT_BIKES AS\n",
    "SELECT\n",
    "   RELATIVE_PATH,\n",
    "   c.INDEX::INTEGER AS CHUNK_INDEX,\n",
    "   c.value::TEXT AS CHUNK_TEXT\n",
    "FROM\n",
    "   RAW_TEXT_BIKES,\n",
    "   LATERAL FLATTEN( input => SNOWFLAKE.CORTEX.SPLIT_TEXT_RECURSIVE_CHARACTER (\n",
    "      EXTRACTED_LAYOUT,\n",
    "      'markdown',\n",
    "      1512,\n",
    "      256,\n",
    "      ['\\n\\n', '\\n', ' ', '']\n",
    "   )) c;\n",
    "\n",
    "SELECT * FROM CHUNKED_TEXT_BIKES;"
   ]
  },
  {
   "cell_type": "markdown",
   "id": "c91eb46a-6257-4826-947d-636d280d46db",
   "metadata": {
    "collapsed": false,
    "name": "cell13"
   },
   "source": [
    "#### Create Cortex Search Service on Bikes Docs\n",
    "\n",
    "Create the Cortex Search Service that will be used as Tool for the agent."
   ]
  },
  {
   "cell_type": "code",
   "execution_count": null,
   "id": "183043db-6148-4409-8bac-b1112d1b93d2",
   "metadata": {
    "language": "sql",
    "name": "create_bikes_rag_tool"
   },
   "outputs": [],
   "source": [
    "CREATE OR REPLACE CORTEX SEARCH SERVICE BIKES_RAG_TOOL\n",
    "  ON CHUNK_TEXT\n",
    "  ATTRIBUTES RELATIVE_PATH, CHUNK_INDEX\n",
    "  WAREHOUSE = COMPUTE_WH\n",
    "  TARGET_LAG = '1 hour'\n",
    "  EMBEDDING_MODEL = 'snowflake-arctic-embed-l-v2.0'\n",
    "AS (\n",
    "  SELECT\n",
    "      CHUNK_TEXT,\n",
    "      RELATIVE_PATH,\n",
    "      CHUNK_INDEX\n",
    "  FROM CHUNKED_TEXT_BIKES\n",
    ");"
   ]
  },
  {
   "cell_type": "markdown",
   "id": "40ecd5e4-e93b-4da0-ab70-4c24cba279b6",
   "metadata": {
    "collapsed": false,
    "name": "cell7"
   },
   "source": [
    "### Ski Documentation\n",
    "\n",
    "Let's create another Tool to retreive information about Ski Documents"
   ]
  },
  {
   "cell_type": "code",
   "execution_count": null,
   "id": "bbb1a1b2-e2b1-44d4-8809-563d18f1b216",
   "metadata": {
    "language": "sql",
    "name": "check_ski_files"
   },
   "outputs": [],
   "source": [
    "-- Check what documents are available\n",
    "\n",
    "SELECT * FROM DIRECTORY('@DOCS_SKI');"
   ]
  },
  {
   "cell_type": "code",
   "execution_count": null,
   "id": "f8a0f4ad-780e-4439-a5d2-8a288b46e41e",
   "metadata": {
    "language": "sql",
    "name": "parse_ski_docs"
   },
   "outputs": [],
   "source": [
    "CREATE OR REPLACE TABLE RAW_TEXT_SKI AS\n",
    "SELECT \n",
    "    RELATIVE_PATH,\n",
    "    TO_VARCHAR (\n",
    "        SNOWFLAKE.CORTEX.PARSE_DOCUMENT (\n",
    "            '@DOCS_SKI',\n",
    "            RELATIVE_PATH,\n",
    "            {'mode': 'LAYOUT'} ):content\n",
    "        ) AS EXTRACTED_LAYOUT \n",
    "FROM \n",
    "    DIRECTORY('@DOCS_SKI');\n",
    "\n",
    "SELECT * FROM RAW_TEXT_SKI;"
   ]
  },
  {
   "cell_type": "code",
   "execution_count": null,
   "id": "f00a7aa9-10d9-4513-8b9a-e4467cd4178d",
   "metadata": {
    "language": "sql",
    "name": "split_ski_docs"
   },
   "outputs": [],
   "source": [
    "-- Create chunks from extracted content\n",
    "\n",
    "CREATE OR REPLACE TABLE CHUNKED_TEXT_SKI AS\n",
    "SELECT\n",
    "   RELATIVE_PATH,\n",
    "   c.INDEX::INTEGER AS CHUNK_INDEX,\n",
    "   c.value::TEXT AS CHUNK_TEXT\n",
    "FROM\n",
    "   RAW_TEXT_SKI,\n",
    "   LATERAL FLATTEN( input => SNOWFLAKE.CORTEX.SPLIT_TEXT_RECURSIVE_CHARACTER (\n",
    "      EXTRACTED_LAYOUT,\n",
    "      'markdown',\n",
    "      1512,\n",
    "      256,\n",
    "      ['\\n\\n', '\\n', ' ', '']\n",
    "   )) c;\n",
    "\n",
    "SELECT * FROM CHUNKED_TEXT_SKI;"
   ]
  },
  {
   "cell_type": "markdown",
   "id": "b5f15e6d-de05-4ce9-a450-6423dbc92582",
   "metadata": {
    "collapsed": false,
    "name": "cell16"
   },
   "source": [
    "#### Create Cortex Search Service on Ski Docs\n",
    "\n",
    "Create the Cortex Search Service that will be used as Tool for the agent."
   ]
  },
  {
   "cell_type": "code",
   "execution_count": null,
   "id": "04e49c13-4a0a-4b63-bbfa-26478f03df2d",
   "metadata": {
    "language": "sql",
    "name": "create_ski_rag_tool"
   },
   "outputs": [],
   "source": [
    "CREATE OR REPLACE CORTEX SEARCH SERVICE SKI_RAG_TOOL\n",
    "  ON CHUNK_TEXT\n",
    "  ATTRIBUTES RELATIVE_PATH, CHUNK_INDEX\n",
    "  WAREHOUSE = COMPUTE_WH\n",
    "  TARGET_LAG = '1 hour'\n",
    "  EMBEDDING_MODEL = 'snowflake-arctic-embed-l-v2.0'\n",
    "AS (\n",
    "  SELECT\n",
    "      CHUNK_TEXT,\n",
    "      RELATIVE_PATH,\n",
    "      CHUNK_INDEX\n",
    "  FROM CHUNKED_TEXT_SKI\n",
    ");"
   ]
  },
  {
   "cell_type": "markdown",
   "id": "a50af6f6-c1a9-4116-b485-897a5187dd92",
   "metadata": {
    "collapsed": false,
    "name": "cell17"
   },
   "source": [
    "#### Test the API for the Tool\n",
    "You can test the service is working as expected before configuring the Cortex Agent"
   ]
  },
  {
   "cell_type": "code",
   "execution_count": null,
   "id": "2ad356fb-c15d-4796-81c5-70276d4872c3",
   "metadata": {
    "language": "python",
    "name": "test_api"
   },
   "outputs": [],
   "source": [
    "from snowflake.core import Root\n",
    "from snowflake.cortex import complete\n",
    "\n",
    "root = Root(get_active_session())\n",
    "\n",
    "question = 'Who tested the downhill bike'\n",
    "\n",
    "# Fetch service\n",
    "my_service = (root\n",
    "  .databases[\"CC_CORTEX_AGENTS_SUMMIT\"]\n",
    "  .schemas[\"PUBLIC\"]\n",
    "  .cortex_search_services[\"BIKES_RAG_TOOL\"]\n",
    ")\n",
    "\n",
    "# Query service\n",
    "resp = my_service.search(\n",
    "  query=question,\n",
    "  columns=[\"CHUNK_INDEX\", \"CHUNK_TEXT\", \"RELATIVE_PATH\"],\n",
    "  limit=1\n",
    ")\n",
    "resp = resp.results[0]\n",
    "\n",
    "st.info(f'**File:** {resp[\"RELATIVE_PATH\"]}\\n\\n {resp[\"CHUNK_TEXT\"]}')\n",
    "\n",
    "# Generate Response\n",
    "model = 'mistral-large2'\n",
    "prompt = f\"{question} Answer based on the provided context: {resp['CHUNK_TEXT']}\"\n",
    "response = complete(model, prompt).strip()\n",
    "\n",
    "st.info(f'**LLM Response:**\\n\\n**{response}**')"
   ]
  },
  {
   "cell_type": "markdown",
   "id": "0d92e083-2415-4c42-aa87-80187831c8bb",
   "metadata": {
    "collapsed": false,
    "name": "cell19"
   },
   "source": [
    "## Tools for Structured Data (Cortex Analyst)\n",
    "\n",
    "Another Tool that we will be providing to the Cortex Agent will be Cortex Analyst which will provide the capability to extract information from Snowflake Tables.  In the API call we will be providing the location of a Semantic file that contains information about the business terminology to describe the data.\n",
    "\n",
    "First we are going to create some syntethic data about the bikes and ski products that we have.\n",
    "\n",
    "We are going to create the following tables with content:\n",
    "\n",
    "\n",
    "**DIM_ARTICLE – Article/Item Dimension**\n",
    "\n",
    "Purpose: Stores descriptive information about the products (articles) being sold.\n",
    "\n",
    "Key Columns:\n",
    "\n",
    "- ARTICLE_ID (Primary Key): Unique identifier for each article.\n",
    "- ARTICLE_NAME: Full name/description of the product.\n",
    "- ARTICLE_CATEGORY: Product category (e.g., Bike, Skis, Ski Boots).\n",
    "- ARTICLE_BRAND: Manufacturer or brand (e.g., Mondracer, Carver).\n",
    "- ARTICLE_COLOR: Dominant color for the article.\n",
    "- ARTICLE_PRICE: Standard unit price of the article.\n",
    "\n",
    "\n",
    "**DIM_CUSTOMER – Customer Dimension**\n",
    "\n",
    "Purpose: Contains demographic and segmentation info about each customer.\n",
    "\n",
    "Key Columns:\n",
    "\n",
    "- CUSTOMER_ID (Primary Key): Unique identifier for each customer.\n",
    "- CUSTOMER_NAME: Display name for the customer.\n",
    "- CUSTOMER_REGION: Geographic region (e.g., North, South).\n",
    "- CUSTOMER_AGE: Age of the customer.\n",
    "- CUSTOMER_GENDER: Gender (Male/Female).\n",
    "- CUSTOMER_SEGMENT: Marketing segment (e.g., Premium, Regular, Occasional).\n",
    "\n",
    "\n",
    "**FACT_SALES – Sales Transactions Fact Table**\n",
    "\n",
    "Purpose: Captures individual sales transactions (facts) with references to article and customer details.\n",
    "\n",
    "Key Columns:\n",
    "\n",
    "- SALE_ID (Primary Key): Unique identifier for the transaction.\n",
    "- ARTICLE_ID (Foreign Key): Links to DIM_ARTICLE.\n",
    "- CUSTOMER_ID (Foreign Key): Links to DIM_CUSTOMER.\n",
    "- DATE_SALES: Date when the sale occurred.\n",
    "- QUANTITY_SOLD: Number of units sold in the transaction.\n",
    "- TOTAL_PRICE: Total transaction value (unit price × quantity).\n",
    "- SALES_CHANNEL: Sales channel used (e.g., Online, In-Store, Partner).\n",
    "- PROMOTION_APPLIED: Boolean indicating if the sale involved a promotion or discount.\n",
    "\n"
   ]
  },
  {
   "cell_type": "code",
   "execution_count": null,
   "id": "94632a62-3b94-4d3a-9b1e-98aee4da1ac6",
   "metadata": {
    "language": "sql",
    "name": "create_article_table"
   },
   "outputs": [],
   "source": [
    "CREATE OR REPLACE TABLE DIM_ARTICLE (\n",
    "    ARTICLE_ID INT PRIMARY KEY,\n",
    "    ARTICLE_NAME STRING,\n",
    "    ARTICLE_CATEGORY STRING,\n",
    "    ARTICLE_BRAND STRING,\n",
    "    ARTICLE_COLOR STRING,\n",
    "    ARTICLE_PRICE FLOAT\n",
    ");\n",
    "\n",
    "INSERT INTO DIM_ARTICLE (ARTICLE_ID, ARTICLE_NAME, ARTICLE_CATEGORY, ARTICLE_BRAND, ARTICLE_COLOR, ARTICLE_PRICE)\n",
    "VALUES \n",
    "(1, 'Mondracer Infant Bike', 'Bike', 'Mondracer', 'Red', 3000),\n",
    "(2, 'Premium Bicycle', 'Bike', 'Veloci', 'Blue', 9000),\n",
    "(3, 'Ski Boots TDBootz Special', 'Ski Boots', 'TDBootz', 'Black', 600),\n",
    "(4, 'The Ultimate Downhill Bike', 'Bike', 'Graviton', 'Green', 10000),\n",
    "(5, 'The Xtreme Road Bike 105 SL', 'Bike', 'Xtreme', 'White', 8500),\n",
    "(6, 'Carver Skis', 'Skis', 'Carver', 'Orange', 790),\n",
    "(7, 'Outpiste Skis', 'Skis', 'Outpiste', 'Yellow', 900),\n",
    "(8, 'Racing Fast Skis', 'Skis', 'RacerX', 'Blue', 950);"
   ]
  },
  {
   "cell_type": "code",
   "execution_count": null,
   "id": "1cd839a1-2aba-480e-9a7b-3e95b413ce8a",
   "metadata": {
    "language": "sql",
    "name": "create_customer_table"
   },
   "outputs": [],
   "source": [
    "CREATE OR REPLACE TABLE DIM_CUSTOMER (\n",
    "    CUSTOMER_ID INT PRIMARY KEY,\n",
    "    CUSTOMER_NAME STRING,\n",
    "    CUSTOMER_REGION STRING,\n",
    "    CUSTOMER_AGE INT,\n",
    "    CUSTOMER_GENDER STRING,\n",
    "    CUSTOMER_SEGMENT STRING\n",
    ");\n",
    "\n",
    "INSERT INTO DIM_CUSTOMER (CUSTOMER_ID, CUSTOMER_NAME, CUSTOMER_REGION, CUSTOMER_AGE, CUSTOMER_GENDER, CUSTOMER_SEGMENT)\n",
    "SELECT \n",
    "    SEQ4() AS CUSTOMER_ID,\n",
    "    'Customer ' || SEQ4() AS CUSTOMER_NAME,\n",
    "    CASE MOD(SEQ4(), 5)\n",
    "        WHEN 0 THEN 'North'\n",
    "        WHEN 1 THEN 'South'\n",
    "        WHEN 2 THEN 'East'\n",
    "        WHEN 3 THEN 'West'\n",
    "        ELSE 'Central'\n",
    "    END AS CUSTOMER_REGION,\n",
    "    UNIFORM(18, 65, RANDOM()) AS CUSTOMER_AGE,\n",
    "    CASE MOD(SEQ4(), 2)\n",
    "        WHEN 0 THEN 'Male'\n",
    "        ELSE 'Female'\n",
    "    END AS CUSTOMER_GENDER,\n",
    "    CASE MOD(SEQ4(), 3)\n",
    "        WHEN 0 THEN 'Premium'\n",
    "        WHEN 1 THEN 'Regular'\n",
    "        ELSE 'Occasional'\n",
    "    END AS CUSTOMER_SEGMENT\n",
    "FROM TABLE(GENERATOR(ROWCOUNT => 5000));"
   ]
  },
  {
   "cell_type": "code",
   "execution_count": null,
   "id": "f8b1c58e-8c41-444b-8163-386a74ce5ee2",
   "metadata": {
    "language": "sql",
    "name": "create_sales_table"
   },
   "outputs": [],
   "source": [
    "CREATE OR REPLACE TABLE FACT_SALES (\n",
    "    SALE_ID INT PRIMARY KEY,\n",
    "    ARTICLE_ID INT,\n",
    "    DATE_SALES DATE,\n",
    "    CUSTOMER_ID INT,\n",
    "    QUANTITY_SOLD INT,\n",
    "    TOTAL_PRICE FLOAT,\n",
    "    SALES_CHANNEL STRING,\n",
    "    PROMOTION_APPLIED BOOLEAN,\n",
    "    FOREIGN KEY (ARTICLE_ID) REFERENCES DIM_ARTICLE(ARTICLE_ID),\n",
    "    FOREIGN KEY (CUSTOMER_ID) REFERENCES DIM_CUSTOMER(CUSTOMER_ID)\n",
    ");\n",
    "\n",
    "-- Populating Sales Fact Table with new attributes\n",
    "INSERT INTO FACT_SALES (SALE_ID, ARTICLE_ID, DATE_SALES, CUSTOMER_ID, QUANTITY_SOLD, TOTAL_PRICE, SALES_CHANNEL, PROMOTION_APPLIED)\n",
    "SELECT \n",
    "    SEQ4() AS SALE_ID,\n",
    "    A.ARTICLE_ID,\n",
    "    DATEADD(DAY, UNIFORM(-1095, 0, RANDOM()), CURRENT_DATE) AS DATE_SALES,\n",
    "    UNIFORM(1, 5000, RANDOM()) AS CUSTOMER_ID,\n",
    "    UNIFORM(1, 10, RANDOM()) AS QUANTITY_SOLD,\n",
    "    UNIFORM(1, 10, RANDOM()) * A.ARTICLE_PRICE AS TOTAL_PRICE,\n",
    "    CASE MOD(SEQ4(), 3)\n",
    "        WHEN 0 THEN 'Online'\n",
    "        WHEN 1 THEN 'In-Store'\n",
    "        ELSE 'Partner'\n",
    "    END AS SALES_CHANNEL,\n",
    "    CASE MOD(SEQ4(), 4)\n",
    "        WHEN 0 THEN TRUE\n",
    "        ELSE FALSE\n",
    "    END AS PROMOTION_APPLIED\n",
    "FROM DIM_ARTICLE A\n",
    "JOIN TABLE(GENERATOR(ROWCOUNT => 10000)) ON TRUE\n",
    "ORDER BY DATE_SALES;"
   ]
  },
  {
   "cell_type": "markdown",
   "id": "bc088cde-eff3-47cb-b98d-921d79b3d4cc",
   "metadata": {
    "collapsed": false,
    "name": "cell23"
   },
   "source": [
    "### Semantic File\n",
    "\n",
    "We are providing an already created Semantic File for your usage, but please explore it using the Semantic Model Generator. You have an explanation in the mean README of this Hands-On Lab"
   ]
  },
  {
   "cell_type": "code",
   "execution_count": null,
   "id": "0121f643-d9b7-4784-a50f-83edfa02ddce",
   "metadata": {
    "language": "sql",
    "name": "copy_semantic_file"
   },
   "outputs": [],
   "source": [
    "create or replace stage semantic_files ENCRYPTION = (TYPE = 'SNOWFLAKE_SSE') DIRECTORY = ( ENABLE = true );\n",
    "\n",
    "COPY FILES\n",
    "    INTO @semantic_files/\n",
    "    FROM @CC_CORTEX_AGENTS_SUMMIT.PUBLIC.git_repo/branches/main/\n",
    "    PATTERN='semantic.yaml';"
   ]
  },
  {
   "cell_type": "markdown",
   "id": "0d09d287-24c7-4691-ab2b-4a7a29f523e7",
   "metadata": {
    "collapsed": false,
    "name": "cell1"
   },
   "source": [
    "## Improving Tool Usage with Dynamic Literal Retrieval\n",
    "\n",
    "Thank you to the Cortex Analyst integration with Cortex Search, we can improve the retrieval of all possible values of a column. Instead of listing all the possible values in the semantic file, we can use Cortex Search Integration. \n",
    "\n",
    "Let's use it as example for the ARTICLE NAMES, so we do not have to list all.\n",
    "\n"
   ]
  },
  {
   "cell_type": "code",
   "execution_count": null,
   "id": "3313c2a7-09d6-4850-8318-80dca424ffab",
   "metadata": {
    "language": "sql",
    "name": "cell2"
   },
   "outputs": [],
   "source": [
    "CREATE OR REPLACE CORTEX SEARCH SERVICE _ARTICLE_NAME_SEARCH\n",
    "  ON ARTICLE_NAME\n",
    "  WAREHOUSE = COMPUTE_WH\n",
    "  TARGET_LAG = '1 hour'\n",
    "  EMBEDDING_MODEL = 'snowflake-arctic-embed-l-v2.0'\n",
    "AS (\n",
    "  SELECT\n",
    "      DISTINCT ARTICLE_NAME\n",
    "  FROM DIM_ARTICLE\n",
    ");"
   ]
  }
 ],
 "metadata": {
  "kernelspec": {
   "display_name": "Streamlit Notebook",
   "name": "streamlit"
  },
  "lastEditStatus": {
   "authorEmail": "carlos.carrero@snowflake.com",
   "authorId": "5744486210470",
   "authorName": "CCARRERO",
   "lastEditTime": 1744707615816,
   "notebookId": "uqoxeakinpfmbj7h4c5i",
   "sessionId": "db793c62-b7e5-42d8-934d-790a4826fe6d"
  }
 },
 "nbformat": 4,
 "nbformat_minor": 5
}
